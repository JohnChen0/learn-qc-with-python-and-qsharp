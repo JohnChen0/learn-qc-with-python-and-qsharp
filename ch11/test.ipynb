{
 "cells": [
  {
   "cell_type": "markdown",
   "id": "cd1f93ac",
   "metadata": {},
   "source": [
    "## Test MeasureInteger"
   ]
  },
  {
   "cell_type": "code",
   "execution_count": 1,
   "id": "7dfbe8ce",
   "metadata": {},
   "outputs": [
    {
     "data": {
      "application/x-qsharp-data": "[\"TestMeasureInteger\"]",
      "text/html": [
       "<ul><li>TestMeasureInteger</li></ul>"
      ],
      "text/plain": [
       "TestMeasureInteger"
      ]
     },
     "execution_count": 1,
     "metadata": {},
     "output_type": "execute_result"
    }
   ],
   "source": [
    " open Microsoft.Quantum.Arithmetic;\n",
    " \n",
    " operation TestMeasureInteger(nQubits : Int) : Unit {\n",
    "    for item in 0..((1 <<< nQubits) - 1) {\n",
    "        use qubits = Qubit[nQubits];\n",
    "        for i in 0..(nQubits - 1) {\n",
    "            if ((item &&& (1 <<< i)) != 0) {\n",
    "                X(qubits[i]);\n",
    "            }\n",
    "        }\n",
    "        let result = MeasureInteger(LittleEndian(qubits));\n",
    "        let status = result == item ? \"OK\" | \"ERROR\";\n",
    "        Message($\"{item}\\t{result}\\t{status}\");\n",
    "    }\n",
    "}"
   ]
  },
  {
   "cell_type": "code",
   "execution_count": 2,
   "id": "c422d2c5",
   "metadata": {},
   "outputs": [
    {
     "name": "stdout",
     "output_type": "stream",
     "text": [
      "0\t0\tOK\n",
      "1\t1\tOK\n",
      "2\t2\tOK\n",
      "3\t3\tOK\n",
      "4\t4\tOK\n",
      "5\t5\tOK\n",
      "6\t6\tOK\n",
      "7\t7\tOK\n"
     ]
    },
    {
     "data": {
      "application/x-qsharp-data": "{\"@type\":\"tuple\"}",
      "text/plain": [
       "()"
      ]
     },
     "execution_count": 2,
     "metadata": {},
     "output_type": "execute_result"
    }
   ],
   "source": [
    "%simulate TestMeasureInteger nQubits=3"
   ]
  },
  {
   "cell_type": "markdown",
   "id": "5254451c",
   "metadata": {},
   "source": [
    "## Test NIterations"
   ]
  },
  {
   "cell_type": "code",
   "execution_count": 3,
   "id": "52f748f5",
   "metadata": {},
   "outputs": [
    {
     "data": {
      "application/x-qsharp-data": "[\"TestNIterations\"]",
      "text/html": [
       "<ul><li>TestNIterations</li></ul>"
      ],
      "text/plain": [
       "TestNIterations"
      ]
     },
     "execution_count": 3,
     "metadata": {},
     "output_type": "execute_result"
    }
   ],
   "source": [
    "open GroverSearch;\n",
    "\n",
    "function TestNIterations(limit : Int) : Unit {\n",
    "    for i in 0..limit {\n",
    "        Message($\"{i}\\t{NIterations(i)}\");\n",
    "    }\n",
    "}"
   ]
  },
  {
   "cell_type": "code",
   "execution_count": 4,
   "id": "12492ef1",
   "metadata": {},
   "outputs": [
    {
     "name": "stdout",
     "output_type": "stream",
     "text": [
      "0\t0\n",
      "1\t1\n",
      "2\t1\n",
      "3\t2\n",
      "4\t3\n",
      "5\t4\n",
      "6\t6\n",
      "7\t8\n",
      "8\t12\n",
      "9\t17\n",
      "10\t25\n",
      "11\t35\n",
      "12\t50\n",
      "13\t71\n",
      "14\t100\n",
      "15\t142\n",
      "16\t201\n",
      "17\t284\n",
      "18\t402\n",
      "19\t568\n",
      "20\t804\n",
      "21\t1137\n",
      "22\t1608\n",
      "23\t2274\n",
      "24\t3216\n",
      "25\t4549\n",
      "26\t6433\n",
      "27\t9099\n",
      "28\t12867\n",
      "29\t18198\n",
      "30\t25735\n",
      "31\t36396\n",
      "32\t51471\n"
     ]
    },
    {
     "data": {
      "application/x-qsharp-data": "{\"@type\":\"tuple\"}",
      "text/plain": [
       "()"
      ]
     },
     "execution_count": 4,
     "metadata": {},
     "output_type": "execute_result"
    }
   ],
   "source": [
    "%simulate TestNIterations limit=32"
   ]
  }
 ],
 "metadata": {
  "kernelspec": {
   "display_name": "Q#",
   "language": "qsharp",
   "name": "iqsharp"
  },
  "language_info": {
   "file_extension": ".qs",
   "mimetype": "text/x-qsharp",
   "name": "qsharp",
   "version": "0.24"
  }
 },
 "nbformat": 4,
 "nbformat_minor": 5
}
