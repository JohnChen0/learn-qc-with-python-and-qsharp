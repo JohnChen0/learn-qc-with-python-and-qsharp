{
 "cells": [
  {
   "cell_type": "markdown",
   "metadata": {},
   "source": [
    "# [Learn Quantum Computing with Python and Q#](https://www.manning.com/books/learn-quantum-computing-with-python-and-q-sharp?a_aid=learn-qc-granade&a_bid=ee23f338)<br>Chapter 12 Exercise Solutions\n",
    "----\n",
    "> Copyright (c) Sarah Kaiser and Cassandra Granade.\n",
    "> Code sample from the book \"Learn Quantum Computing with Python and Q#\" by\n",
    "> Sarah Kaiser and Cassandra Granade, published by Manning Publications Co.\n",
    "> Book ISBN 9781617296130.\n",
    "> Code licensed under the MIT License."
   ]
  },
  {
   "cell_type": "markdown",
   "metadata": {},
   "source": [
    "\n",
    "### Exercise 12.1 "
   ]
  },
  {
   "cell_type": "markdown",
   "metadata": {},
   "source": [
    "**What are the powers of $11$ when computed$\\mod 21$?**"
   ]
  },
  {
   "cell_type": "code",
   "execution_count": null,
   "metadata": {},
   "outputs": [],
   "source": [
    "open Microsoft.Quantum.Arrays;\n",
    "open Microsoft.Quantum.Logical;\n",
    "\n",
    "function Powers(generator : Int, modulus : Int) : Int[] {\n",
    "    mutable powers = [1];\n",
    "    mutable acc = generator;\n",
    "    \n",
    "    while (acc != 1) {\n",
    "        set powers += [acc];\n",
    "        set acc = acc * generator % modulus;\n",
    "    }\n",
    "    \n",
    "    return powers;\n",
    "}"
   ]
  },
  {
   "cell_type": "code",
   "execution_count": null,
   "metadata": {},
   "outputs": [],
   "source": [
    "%simulate Powers generator=11 modulus=21"
   ]
  },
  {
   "cell_type": "markdown",
   "metadata": {},
   "source": [
    "**How long does it take to loop back around to $11^0 = 1$?**"
   ]
  },
  {
   "cell_type": "markdown",
   "metadata": {},
   "source": [
    "It takes $11^6 = 1$ before the powers of $11$ loop back around, so we say that the period of the function $f(x) = 11^n \\mod 21$ is 6.\n",
    "That is, $f(x) = f(x + 6)$ for all $x$, and $6$ is the smallest number for which this is the case."
   ]
  },
  {
   "cell_type": "markdown",
   "metadata": {},
   "source": [
    "**Does it matter if you take the modulus by $21$ at the end, or whether you compute the modulus at each step?**"
   ]
  },
  {
   "cell_type": "markdown",
   "metadata": {},
   "source": [
    "No, you can multiply your accumulated value by 11 and then take it mod 21 and then repeat that as many times as needed, and it is the same as modding at the end. The incremental approach scales better as you don't have to store such large numbers and then mod them."
   ]
  },
  {
   "cell_type": "markdown",
   "metadata": {},
   "source": [
    "----\n",
    "### Exercise 12.2"
   ]
  },
  {
   "cell_type": "markdown",
   "metadata": {},
   "source": [
    "**Using either Python or Q#, try showing that one or both of the potential factor candidates from the last step of Shor's algorithm share factors with the modulus. Use $N = 143$, $g = 19$, and the period $r = 60$.**"
   ]
  },
  {
   "cell_type": "markdown",
   "metadata": {},
   "source": [
    "Recall step 6 of Shor's Algorithm is:\n",
    "> 6. Either $g^{\\frac{r}{2}} - 1$ or $g^{\\frac{r}{2}} + 1$ shares a factor with $N$.\n",
    "\n",
    "Thus, you'll want to confirm that either $g^{r / 2} - 1 \\bmod N$ or $g^{r / 2} + 1 \\bmod N$ shares a factor with $N$; that is, isn't coprime with $N$.\n",
    "In Q#, it's easy to check if two integers are coprime by using the [`IsCoprimeI` function](https://docs.microsoft.com/qsharp/api/qsharp/microsoft.quantum.math.iscoprimei)."
   ]
  },
  {
   "cell_type": "code",
   "execution_count": null,
   "metadata": {},
   "outputs": [],
   "source": [
    "open Microsoft.Quantum.Diagnostics;\n",
    "open Microsoft.Quantum.Math;\n",
    "\n",
    "function SharedFactorsFact(generator : Int, modulus : Int, period : Int) : Unit {\n",
    "    let halfPower = ExpModI(generator, period / 2, modulus);\n",
    "    Fact(\n",
    "        not IsCoprimeI(modulus, halfPower + 1 % modulus) or\n",
    "        not IsCoprimeI(modulus, halfPower - 1 % modulus),\n",
    "        $\"Neither {generator}^({period} / 2) + 1 or {generator}^({period} / 2) - 1 shares a factor with {modulus}.\"\n",
    "    );\n",
    "    \n",
    "}"
   ]
  },
  {
   "cell_type": "code",
   "execution_count": null,
   "metadata": {},
   "outputs": [],
   "source": [
    "%simulate SharedFactorsFact generator=19 modulus=143 period=60"
   ]
  },
  {
   "cell_type": "markdown",
   "metadata": {},
   "source": [
    "----\n",
    "### Exercise 12.3"
   ]
  },
  {
   "cell_type": "markdown",
   "metadata": {},
   "source": [
    "**What's the GCD of 35 and 30?**"
   ]
  },
  {
   "cell_type": "code",
   "execution_count": null,
   "metadata": {},
   "outputs": [],
   "source": [
    "open Microsoft.Quantum.Math;\n",
    "function ExerciseGCD() : Int {\n",
    "    return GreatestCommonDivisorI (35, 30); \n",
    "}"
   ]
  },
  {
   "cell_type": "code",
   "execution_count": null,
   "metadata": {},
   "outputs": [],
   "source": [
    "%simulate ExerciseGCD"
   ]
  },
  {
   "cell_type": "markdown",
   "metadata": {},
   "source": [
    "This does help you find the factors of $35$ because now you know that $5$ is a factor in common between $35$ and $30$ and thus is also a factor of $35$. You can then divide $35$ by $5$ and get that $7$ is also a factor of $35$."
   ]
  },
  {
   "cell_type": "markdown",
   "metadata": {},
   "source": [
    "**Alternative solution**"
   ]
  },
  {
   "cell_type": "code",
   "execution_count": null,
   "metadata": {},
   "outputs": [],
   "source": [
    "%simulate Microsoft.Quantum.Math.GreatestCommonDivisorI a=35 b=30"
   ]
  },
  {
   "cell_type": "markdown",
   "metadata": {},
   "source": [
    "----\n",
    "### Exercise 12.4"
   ]
  },
  {
   "cell_type": "markdown",
   "metadata": {},
   "source": [
    "**What state would your register be in after multiplying by 5 modulo 9?**\n",
    "\n",
    "> Note: the code below is the same sample code that is in `IntegerFactorization.ipynb`."
   ]
  },
  {
   "cell_type": "code",
   "execution_count": null,
   "metadata": {},
   "outputs": [],
   "source": [
    "open Microsoft.Quantum.Arithmetic;\n",
    "open Microsoft.Quantum.Diagnostics;\n",
    "open Microsoft.Quantum.Math;\n",
    "open Microsoft.Quantum.Arrays;\n",
    "\n",
    "operation PrepareSuperpositionOfTwoInts(register : LittleEndian, intPair : (Int, Int)) \n",
    ": Unit is Adj + Ctl {\n",
    "    use ctrl = Qubit();\n",
    "    H(ctrl);\n",
    "    within{\n",
    "        X(ctrl);\n",
    "    } \n",
    "    apply{\n",
    "        Controlled ApplyXorInPlace([ctrl], (Fst(intPair), register));\n",
    "    }\n",
    "\n",
    "    Controlled ApplyXorInPlace([ctrl], (Snd(intPair), register));\n",
    "    (ControlledOnInt(Snd(intPair), Y))(register!, ctrl);  \n",
    "}\n",
    "\n",
    "\n",
    "operation MultiplyInSuperpositionMod(superpositionInt1 : Int, \n",
    "    superpositionInt2 : Int, multiplier : Int, modulus : Int) \n",
    ": Int {\n",
    "    use target = Qubit[BitSizeI(modulus)];\n",
    "\n",
    "    PrepareSuperpositionOfTwoInts(LittleEndian(target), (superpositionInt1, superpositionInt2));\n",
    "        \n",
    "    Message(\"Before multiplication:\");\n",
    "    DumpMachine();\n",
    "        \n",
    "    MultiplyByModularInteger(multiplier, modulus, LittleEndian(target));\n",
    "        \n",
    "    Message(\"After multiplication:\");\n",
    "    DumpMachine();\n",
    "    return MeasureInteger(LittleEndian(target));\n",
    "}"
   ]
  },
  {
   "cell_type": "code",
   "execution_count": null,
   "metadata": {},
   "outputs": [],
   "source": [
    "%simulate MultiplyInSuperpositionMod superpositionInt1=2 superpositionInt2=7 multiplier=5 modulus=9"
   ]
  },
  {
   "cell_type": "markdown",
   "metadata": {},
   "source": [
    "You can see that after multiplication, the state is $\\frac{1}{\\sqrt{2}}\\left(\\left|1\\right\\rangle + \\left|8\\right\\rangle\\right)$."
   ]
  },
  {
   "cell_type": "markdown",
   "metadata": {},
   "source": [
    "----\n",
    "### Exercise 12.5"
   ]
  },
  {
   "cell_type": "markdown",
   "metadata": {},
   "source": [
    "**Try to multiply by 3 modulo 9, you'll get an error; why?**"
   ]
  },
  {
   "cell_type": "code",
   "execution_count": null,
   "metadata": {
    "scrolled": true
   },
   "outputs": [],
   "source": [
    "%simulate MultiplyInSuperpositionMod superpositionInt1=2 superpositionInt2=7 multiplier=3 modulus=9"
   ]
  },
  {
   "cell_type": "markdown",
   "metadata": {},
   "source": [
    "<details>\n",
    "    <summary>Explanation</summary>\n",
    "    Multiplying by $3 \\mod 9$ is not reversible.\n",
    "    For instance, both $1 \\times 3$ and $4 \\times 3$ mod 9 give 0, even though $1 \\ne 4 \\mod 9$.\n",
    "    Since classical functions have to be reversible in order to be represented by quantum operations, the <code>MultiplyByModularInteger</code> operation raises an error in this case.\n",
    "</details>\n",
    "   "
   ]
  },
  {
   "cell_type": "markdown",
   "metadata": {},
   "source": [
    "----\n",
    "### Epilogue\n",
    "\n",
    "_The following cell logs what version of the components this was last tested with._"
   ]
  },
  {
   "cell_type": "code",
   "execution_count": 10,
   "metadata": {},
   "outputs": [
    {
     "data": {
      "application/x-qsharp-data": "{\"rows\":[{\"@type\":\"@tuple\",\"Item1\":\"iqsharp\",\"Item2\":\"0.24.210930\"},{\"@type\":\"@tuple\",\"Item1\":\"Jupyter Core\",\"Item2\":\"1.5.0.0\"},{\"@type\":\"@tuple\",\"Item1\":\".NET Runtime\",\"Item2\":\".NETCoreApp,Version=v6.0\"}]}",
      "text/html": [
       "<table><thead><tr><th style=\"text-align: start;\">Component</th><th style=\"text-align: start;\">Version</th></tr></thead><tbody><tr><td style=\"text-align: start;\">iqsharp</td><td style=\"text-align: start;\">0.24.210930</td></tr><tr><td style=\"text-align: start;\">Jupyter Core</td><td style=\"text-align: start;\">1.5.0.0</td></tr><tr><td style=\"text-align: start;\">.NET Runtime</td><td style=\"text-align: start;\">.NETCoreApp,Version=v6.0</td></tr></tbody></table>"
      ],
      "text/plain": [
       "Component    Version\n",
       "------------ ------------------------\n",
       "iqsharp      0.24.210930\n",
       "Jupyter Core 1.5.0.0\n",
       ".NET Runtime .NETCoreApp,Version=v6.0\n"
      ]
     },
     "metadata": {},
     "output_type": "display_data"
    }
   ],
   "source": [
    "%version"
   ]
  },
  {
   "cell_type": "code",
   "execution_count": null,
   "metadata": {},
   "outputs": [],
   "source": []
  }
 ],
 "metadata": {
  "kernelspec": {
   "display_name": "Q#",
   "language": "qsharp",
   "name": "iqsharp"
  },
  "language_info": {
   "file_extension": ".qs",
   "mimetype": "text/x-qsharp",
   "name": "qsharp",
   "version": "0.24"
  }
 },
 "nbformat": 4,
 "nbformat_minor": 4
}
